{
 "cells": [
  {
   "cell_type": "markdown",
   "id": "6dcb2737",
   "metadata": {},
   "source": [
    "### __Section 7: Q&A System Building__"
   ]
  },
  {
   "cell_type": "code",
   "execution_count": 3,
   "id": "baf1fa5b",
   "metadata": {},
   "outputs": [],
   "source": [
    "import import_ipynb"
   ]
  },
  {
   "cell_type": "code",
   "execution_count": 12,
   "id": "b53f6772",
   "metadata": {},
   "outputs": [],
   "source": [
    "from Question Classifier import *\n",
    "from Sentiment_Analysis import *\n",
    "from Retrieving Answers import *"
   ]
  },
  {
   "cell_type": "code",
   "execution_count": null,
   "id": "dcb3f644",
   "metadata": {},
   "outputs": [],
   "source": [
    "class ChatBotGraph:\n",
    "    def __init__(self):\n",
    "        self.classifier = QuestionClassifier()\n",
    "        self.parser = QuestionPaser()\n",
    "        self.searcher = AnswerSearcher()\n",
    "\n",
    "    def chat_main(self, sent):\n",
    "        answer = 'Hi，I am Yumi, your medical intelligent assistant. Hope I can be of some help~'\n",
    "        res_classify = self.classifier.classify(sent)\n",
    "        if not res_classify:\n",
    "            return answer\n",
    "        res_sql = self.parser.parser_main(res_classify)\n",
    "        final_answers = self.searcher.search_main(res_sql)\n",
    "        if not final_answers:\n",
    "            return answer\n",
    "        else:\n",
    "            return '\\n'.join(final_answers)\n",
    "\n",
    "if __name__ == '__main__':\n",
    "    handler = ChatBotGraph()\n",
    "    while 1:\n",
    "        question = input('user:')\n",
    "        answer = handler.chat_main(question)\n",
    "        print('Yumi:', answer)"
   ]
  }
 ],
 "metadata": {
  "kernelspec": {
   "display_name": "Python 3 (ipykernel)",
   "language": "python",
   "name": "python3"
  },
  "language_info": {
   "codemirror_mode": {
    "name": "ipython",
    "version": 3
   },
   "file_extension": ".py",
   "mimetype": "text/x-python",
   "name": "python",
   "nbconvert_exporter": "python",
   "pygments_lexer": "ipython3",
   "version": "3.11.5"
  }
 },
 "nbformat": 4,
 "nbformat_minor": 5
}
