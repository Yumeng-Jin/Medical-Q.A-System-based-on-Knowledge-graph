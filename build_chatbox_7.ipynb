{
 "cells": [
  {
   "cell_type": "markdown",
   "id": "6419aa95",
   "metadata": {},
   "source": [
    "## 七、问答系统构建"
   ]
  },
  {
   "cell_type": "code",
   "execution_count": null,
   "id": "23572963",
   "metadata": {},
   "outputs": [],
   "source": [
    "import import_ipynb"
   ]
  },
  {
   "cell_type": "code",
   "execution_count": null,
   "id": "bc8943c8",
   "metadata": {},
   "outputs": [],
   "source": [
    "from question_classifier_4 import *\n",
    "from question_parser_5 import *\n",
    "from answer_search_6 import *"
   ]
  },
  {
   "cell_type": "code",
   "execution_count": null,
   "id": "70395274",
   "metadata": {
    "scrolled": true
   },
   "outputs": [],
   "source": [
    "class ChatBotGraph:\n",
    "    def __init__(self):\n",
    "        self.classifier = QuestionClassifier()\n",
    "        self.parser = QuestionPaser()\n",
    "        self.searcher = AnswerSearcher()\n",
    "\n",
    "    def chat_main(self, sent):\n",
    "        answer = '您好，我是您的医药智能助理小金，希望可以帮到您。'\n",
    "        res_classify = self.classifier.classify(sent)\n",
    "        if not res_classify:\n",
    "            return answer\n",
    "        res_sql = self.parser.parser_main(res_classify)\n",
    "        final_answers = self.searcher.search_main(res_sql)\n",
    "        if not final_answers:\n",
    "            return answer\n",
    "        else:\n",
    "            return '\\n'.join(final_answers)\n",
    "\n",
    "if __name__ == '__main__':\n",
    "    handler = ChatBotGraph()\n",
    "    while 1:\n",
    "        question = input('user:')\n",
    "        answer = handler.chat_main(question)\n",
    "        print('小金:', answer)"
   ]
  },
  {
   "cell_type": "code",
   "execution_count": null,
   "id": "743a5e8b",
   "metadata": {},
   "outputs": [],
   "source": []
  }
 ],
 "metadata": {
  "kernelspec": {
   "display_name": "Python [conda env:root] *",
   "language": "python",
   "name": "conda-root-py"
  },
  "language_info": {
   "codemirror_mode": {
    "name": "ipython",
    "version": 3
   },
   "file_extension": ".py",
   "mimetype": "text/x-python",
   "name": "python",
   "nbconvert_exporter": "python",
   "pygments_lexer": "ipython3",
   "version": "3.9.7"
  }
 },
 "nbformat": 4,
 "nbformat_minor": 5
}
