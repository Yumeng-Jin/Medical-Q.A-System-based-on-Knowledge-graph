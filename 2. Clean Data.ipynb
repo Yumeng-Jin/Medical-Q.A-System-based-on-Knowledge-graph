{
 "cells": [
  {
   "cell_type": "markdown",
   "id": "b51f7fff",
   "metadata": {},
   "source": [
    "### __Section 2: Data Viewing and Preprocessing__"
   ]
  },
  {
   "cell_type": "code",
   "execution_count": null,
   "id": "9addf273",
   "metadata": {},
   "outputs": [],
   "source": [
    "import os\n",
    "import numpy as np\n",
    "import pandas as pd"
   ]
  },
  {
   "cell_type": "code",
   "execution_count": null,
   "id": "ce2c4b55",
   "metadata": {},
   "outputs": [],
   "source": [
    "dis = pd.read_excel('D:\\JupyterWork\\毕业论文\\data\\diseases.xlsx')"
   ]
  },
  {
   "cell_type": "code",
   "execution_count": null,
   "id": "4a1bd0e2",
   "metadata": {},
   "outputs": [],
   "source": [
    "# view column names, missing situation, and data types\n",
    "dis.info()  "
   ]
  },
  {
   "cell_type": "code",
   "execution_count": null,
   "id": "3b7bbea6",
   "metadata": {},
   "outputs": [],
   "source": [
    "# perform descriptive statistics for numerical features\n",
    "dis.describe()"
   ]
  },
  {
   "cell_type": "code",
   "execution_count": null,
   "id": "8fa4b25c",
   "metadata": {},
   "outputs": [],
   "source": [
    "# delete duplicate rows\n",
    "dis.drop_duplicates(inplace = True) "
   ]
  },
  {
   "cell_type": "code",
   "execution_count": null,
   "id": "29cea3c3",
   "metadata": {},
   "outputs": [],
   "source": [
    "# replace missing values with 'None'\n",
    "dis.fillna('None',inplace = True) "
   ]
  },
  {
   "cell_type": "code",
   "execution_count": null,
   "id": "1d255521",
   "metadata": {},
   "outputs": [],
   "source": [
    "# review column names, missing situation, and data types\n",
    "dis.info() "
   ]
  },
  {
   "cell_type": "code",
   "execution_count": null,
   "id": "240c00e3",
   "metadata": {},
   "outputs": [],
   "source": [
    "# export the processed data to a new Excel file\n",
    "dis.to_excel('diseases_new.xlsx',encoding = 'utf-8',index = False)"
   ]
  }
 ],
 "metadata": {
  "kernelspec": {
   "display_name": "Python 3 (ipykernel)",
   "language": "python",
   "name": "python3"
  },
  "language_info": {
   "codemirror_mode": {
    "name": "ipython",
    "version": 3
   },
   "file_extension": ".py",
   "mimetype": "text/x-python",
   "name": "python",
   "nbconvert_exporter": "python",
   "pygments_lexer": "ipython3",
   "version": "3.11.5"
  }
 },
 "nbformat": 4,
 "nbformat_minor": 5
}
